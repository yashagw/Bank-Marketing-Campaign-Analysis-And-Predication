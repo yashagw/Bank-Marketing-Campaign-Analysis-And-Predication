{
 "cells": [
  {
   "cell_type": "code",
   "execution_count": 114,
   "metadata": {
    "executionInfo": {
     "elapsed": 400,
     "status": "ok",
     "timestamp": 1641390749614,
     "user": {
      "displayName": "Yash Agarwal",
      "photoUrl": "https://lh3.googleusercontent.com/a-/AOh14GjD4-D-XQktOPkZ6NP6RRDeaZ9cA3FgNxKOzYhV3A=s64",
      "userId": "17270826592418786232"
     },
     "user_tz": -330
    },
    "id": "x_FUup3vG6pp"
   },
   "outputs": [],
   "source": [
    "import pandas as pd\n",
    "import numpy as np\n",
    "import matplotlib.pyplot as plt\n",
    "import seaborn as sns\n",
    "import sklearn\n",
    "\n",
    "from sklearn.model_selection import train_test_split\n",
    "\n",
    "from sklearn.base import BaseEstimator, TransformerMixin\n",
    "from sklearn.pipeline import Pipeline, FeatureUnion\n",
    "\n",
    "from sklearn.preprocessing import OneHotEncoder, StandardScaler\n",
    "from sklearn.impute import SimpleImputer"
   ]
  },
  {
   "cell_type": "code",
   "execution_count": 115,
   "metadata": {
    "executionInfo": {
     "elapsed": 3,
     "status": "ok",
     "timestamp": 1641390750065,
     "user": {
      "displayName": "Yash Agarwal",
      "photoUrl": "https://lh3.googleusercontent.com/a-/AOh14GjD4-D-XQktOPkZ6NP6RRDeaZ9cA3FgNxKOzYhV3A=s64",
      "userId": "17270826592418786232"
     },
     "user_tz": -330
    },
    "id": "uw76lppOXcLl"
   },
   "outputs": [],
   "source": [
    "pd.options.mode.chained_assignment = None"
   ]
  },
  {
   "cell_type": "code",
   "execution_count": 116,
   "metadata": {
    "colab": {
     "base_uri": "https://localhost:8080/",
     "height": 488
    },
    "executionInfo": {
     "elapsed": 758,
     "status": "ok",
     "timestamp": 1641390750820,
     "user": {
      "displayName": "Yash Agarwal",
      "photoUrl": "https://lh3.googleusercontent.com/a-/AOh14GjD4-D-XQktOPkZ6NP6RRDeaZ9cA3FgNxKOzYhV3A=s64",
      "userId": "17270826592418786232"
     },
     "user_tz": -330
    },
    "id": "pOxyoAmyHReV",
    "outputId": "926627ef-41e4-4fd4-a118-331bbcb57d14"
   },
   "outputs": [
    {
     "data": {
      "text/html": [
       "\n",
       "  <div id=\"df-a1db5dc1-6502-49e6-ac27-78eb5c645445\">\n",
       "    <div class=\"colab-df-container\">\n",
       "      <div>\n",
       "<style scoped>\n",
       "    .dataframe tbody tr th:only-of-type {\n",
       "        vertical-align: middle;\n",
       "    }\n",
       "\n",
       "    .dataframe tbody tr th {\n",
       "        vertical-align: top;\n",
       "    }\n",
       "\n",
       "    .dataframe thead th {\n",
       "        text-align: right;\n",
       "    }\n",
       "</style>\n",
       "<table border=\"1\" class=\"dataframe\">\n",
       "  <thead>\n",
       "    <tr style=\"text-align: right;\">\n",
       "      <th></th>\n",
       "      <th>age</th>\n",
       "      <th>job</th>\n",
       "      <th>marital</th>\n",
       "      <th>education</th>\n",
       "      <th>default</th>\n",
       "      <th>housing</th>\n",
       "      <th>loan</th>\n",
       "      <th>contact</th>\n",
       "      <th>month</th>\n",
       "      <th>day_of_week</th>\n",
       "      <th>duration</th>\n",
       "      <th>campaign</th>\n",
       "      <th>pdays</th>\n",
       "      <th>previous</th>\n",
       "      <th>poutcome</th>\n",
       "      <th>emp.var.rate</th>\n",
       "      <th>cons.price.idx</th>\n",
       "      <th>cons.conf.idx</th>\n",
       "      <th>euribor3m</th>\n",
       "      <th>nr.employed</th>\n",
       "      <th>y</th>\n",
       "    </tr>\n",
       "  </thead>\n",
       "  <tbody>\n",
       "    <tr>\n",
       "      <th>0</th>\n",
       "      <td>56</td>\n",
       "      <td>housemaid</td>\n",
       "      <td>married</td>\n",
       "      <td>basic.4y</td>\n",
       "      <td>no</td>\n",
       "      <td>no</td>\n",
       "      <td>no</td>\n",
       "      <td>telephone</td>\n",
       "      <td>may</td>\n",
       "      <td>mon</td>\n",
       "      <td>261</td>\n",
       "      <td>1</td>\n",
       "      <td>999</td>\n",
       "      <td>0</td>\n",
       "      <td>nonexistent</td>\n",
       "      <td>1.1</td>\n",
       "      <td>93.994</td>\n",
       "      <td>-36.4</td>\n",
       "      <td>4.857</td>\n",
       "      <td>5191.0</td>\n",
       "      <td>0</td>\n",
       "    </tr>\n",
       "    <tr>\n",
       "      <th>1</th>\n",
       "      <td>57</td>\n",
       "      <td>services</td>\n",
       "      <td>married</td>\n",
       "      <td>high.school</td>\n",
       "      <td>unknown</td>\n",
       "      <td>no</td>\n",
       "      <td>no</td>\n",
       "      <td>telephone</td>\n",
       "      <td>may</td>\n",
       "      <td>mon</td>\n",
       "      <td>149</td>\n",
       "      <td>1</td>\n",
       "      <td>999</td>\n",
       "      <td>0</td>\n",
       "      <td>nonexistent</td>\n",
       "      <td>1.1</td>\n",
       "      <td>93.994</td>\n",
       "      <td>-36.4</td>\n",
       "      <td>4.857</td>\n",
       "      <td>5191.0</td>\n",
       "      <td>0</td>\n",
       "    </tr>\n",
       "    <tr>\n",
       "      <th>2</th>\n",
       "      <td>37</td>\n",
       "      <td>services</td>\n",
       "      <td>married</td>\n",
       "      <td>high.school</td>\n",
       "      <td>no</td>\n",
       "      <td>yes</td>\n",
       "      <td>no</td>\n",
       "      <td>telephone</td>\n",
       "      <td>may</td>\n",
       "      <td>mon</td>\n",
       "      <td>226</td>\n",
       "      <td>1</td>\n",
       "      <td>999</td>\n",
       "      <td>0</td>\n",
       "      <td>nonexistent</td>\n",
       "      <td>1.1</td>\n",
       "      <td>93.994</td>\n",
       "      <td>-36.4</td>\n",
       "      <td>4.857</td>\n",
       "      <td>5191.0</td>\n",
       "      <td>0</td>\n",
       "    </tr>\n",
       "    <tr>\n",
       "      <th>3</th>\n",
       "      <td>40</td>\n",
       "      <td>admin.</td>\n",
       "      <td>married</td>\n",
       "      <td>basic.6y</td>\n",
       "      <td>no</td>\n",
       "      <td>no</td>\n",
       "      <td>no</td>\n",
       "      <td>telephone</td>\n",
       "      <td>may</td>\n",
       "      <td>mon</td>\n",
       "      <td>151</td>\n",
       "      <td>1</td>\n",
       "      <td>999</td>\n",
       "      <td>0</td>\n",
       "      <td>nonexistent</td>\n",
       "      <td>1.1</td>\n",
       "      <td>93.994</td>\n",
       "      <td>-36.4</td>\n",
       "      <td>4.857</td>\n",
       "      <td>5191.0</td>\n",
       "      <td>0</td>\n",
       "    </tr>\n",
       "    <tr>\n",
       "      <th>4</th>\n",
       "      <td>56</td>\n",
       "      <td>services</td>\n",
       "      <td>married</td>\n",
       "      <td>high.school</td>\n",
       "      <td>no</td>\n",
       "      <td>no</td>\n",
       "      <td>yes</td>\n",
       "      <td>telephone</td>\n",
       "      <td>may</td>\n",
       "      <td>mon</td>\n",
       "      <td>307</td>\n",
       "      <td>1</td>\n",
       "      <td>999</td>\n",
       "      <td>0</td>\n",
       "      <td>nonexistent</td>\n",
       "      <td>1.1</td>\n",
       "      <td>93.994</td>\n",
       "      <td>-36.4</td>\n",
       "      <td>4.857</td>\n",
       "      <td>5191.0</td>\n",
       "      <td>0</td>\n",
       "    </tr>\n",
       "    <tr>\n",
       "      <th>...</th>\n",
       "      <td>...</td>\n",
       "      <td>...</td>\n",
       "      <td>...</td>\n",
       "      <td>...</td>\n",
       "      <td>...</td>\n",
       "      <td>...</td>\n",
       "      <td>...</td>\n",
       "      <td>...</td>\n",
       "      <td>...</td>\n",
       "      <td>...</td>\n",
       "      <td>...</td>\n",
       "      <td>...</td>\n",
       "      <td>...</td>\n",
       "      <td>...</td>\n",
       "      <td>...</td>\n",
       "      <td>...</td>\n",
       "      <td>...</td>\n",
       "      <td>...</td>\n",
       "      <td>...</td>\n",
       "      <td>...</td>\n",
       "      <td>...</td>\n",
       "    </tr>\n",
       "    <tr>\n",
       "      <th>41183</th>\n",
       "      <td>73</td>\n",
       "      <td>retired</td>\n",
       "      <td>married</td>\n",
       "      <td>professional.course</td>\n",
       "      <td>no</td>\n",
       "      <td>yes</td>\n",
       "      <td>no</td>\n",
       "      <td>cellular</td>\n",
       "      <td>nov</td>\n",
       "      <td>fri</td>\n",
       "      <td>334</td>\n",
       "      <td>1</td>\n",
       "      <td>999</td>\n",
       "      <td>0</td>\n",
       "      <td>nonexistent</td>\n",
       "      <td>-1.1</td>\n",
       "      <td>94.767</td>\n",
       "      <td>-50.8</td>\n",
       "      <td>1.028</td>\n",
       "      <td>4963.6</td>\n",
       "      <td>1</td>\n",
       "    </tr>\n",
       "    <tr>\n",
       "      <th>41184</th>\n",
       "      <td>46</td>\n",
       "      <td>blue-collar</td>\n",
       "      <td>married</td>\n",
       "      <td>professional.course</td>\n",
       "      <td>no</td>\n",
       "      <td>no</td>\n",
       "      <td>no</td>\n",
       "      <td>cellular</td>\n",
       "      <td>nov</td>\n",
       "      <td>fri</td>\n",
       "      <td>383</td>\n",
       "      <td>1</td>\n",
       "      <td>999</td>\n",
       "      <td>0</td>\n",
       "      <td>nonexistent</td>\n",
       "      <td>-1.1</td>\n",
       "      <td>94.767</td>\n",
       "      <td>-50.8</td>\n",
       "      <td>1.028</td>\n",
       "      <td>4963.6</td>\n",
       "      <td>0</td>\n",
       "    </tr>\n",
       "    <tr>\n",
       "      <th>41185</th>\n",
       "      <td>56</td>\n",
       "      <td>retired</td>\n",
       "      <td>married</td>\n",
       "      <td>university.degree</td>\n",
       "      <td>no</td>\n",
       "      <td>yes</td>\n",
       "      <td>no</td>\n",
       "      <td>cellular</td>\n",
       "      <td>nov</td>\n",
       "      <td>fri</td>\n",
       "      <td>189</td>\n",
       "      <td>2</td>\n",
       "      <td>999</td>\n",
       "      <td>0</td>\n",
       "      <td>nonexistent</td>\n",
       "      <td>-1.1</td>\n",
       "      <td>94.767</td>\n",
       "      <td>-50.8</td>\n",
       "      <td>1.028</td>\n",
       "      <td>4963.6</td>\n",
       "      <td>0</td>\n",
       "    </tr>\n",
       "    <tr>\n",
       "      <th>41186</th>\n",
       "      <td>44</td>\n",
       "      <td>technician</td>\n",
       "      <td>married</td>\n",
       "      <td>professional.course</td>\n",
       "      <td>no</td>\n",
       "      <td>no</td>\n",
       "      <td>no</td>\n",
       "      <td>cellular</td>\n",
       "      <td>nov</td>\n",
       "      <td>fri</td>\n",
       "      <td>442</td>\n",
       "      <td>1</td>\n",
       "      <td>999</td>\n",
       "      <td>0</td>\n",
       "      <td>nonexistent</td>\n",
       "      <td>-1.1</td>\n",
       "      <td>94.767</td>\n",
       "      <td>-50.8</td>\n",
       "      <td>1.028</td>\n",
       "      <td>4963.6</td>\n",
       "      <td>1</td>\n",
       "    </tr>\n",
       "    <tr>\n",
       "      <th>41187</th>\n",
       "      <td>74</td>\n",
       "      <td>retired</td>\n",
       "      <td>married</td>\n",
       "      <td>professional.course</td>\n",
       "      <td>no</td>\n",
       "      <td>yes</td>\n",
       "      <td>no</td>\n",
       "      <td>cellular</td>\n",
       "      <td>nov</td>\n",
       "      <td>fri</td>\n",
       "      <td>239</td>\n",
       "      <td>3</td>\n",
       "      <td>999</td>\n",
       "      <td>1</td>\n",
       "      <td>failure</td>\n",
       "      <td>-1.1</td>\n",
       "      <td>94.767</td>\n",
       "      <td>-50.8</td>\n",
       "      <td>1.028</td>\n",
       "      <td>4963.6</td>\n",
       "      <td>0</td>\n",
       "    </tr>\n",
       "  </tbody>\n",
       "</table>\n",
       "<p>41188 rows × 21 columns</p>\n",
       "</div>\n",
       "      <button class=\"colab-df-convert\" onclick=\"convertToInteractive('df-a1db5dc1-6502-49e6-ac27-78eb5c645445')\"\n",
       "              title=\"Convert this dataframe to an interactive table.\"\n",
       "              style=\"display:none;\">\n",
       "        \n",
       "  <svg xmlns=\"http://www.w3.org/2000/svg\" height=\"24px\"viewBox=\"0 0 24 24\"\n",
       "       width=\"24px\">\n",
       "    <path d=\"M0 0h24v24H0V0z\" fill=\"none\"/>\n",
       "    <path d=\"M18.56 5.44l.94 2.06.94-2.06 2.06-.94-2.06-.94-.94-2.06-.94 2.06-2.06.94zm-11 1L8.5 8.5l.94-2.06 2.06-.94-2.06-.94L8.5 2.5l-.94 2.06-2.06.94zm10 10l.94 2.06.94-2.06 2.06-.94-2.06-.94-.94-2.06-.94 2.06-2.06.94z\"/><path d=\"M17.41 7.96l-1.37-1.37c-.4-.4-.92-.59-1.43-.59-.52 0-1.04.2-1.43.59L10.3 9.45l-7.72 7.72c-.78.78-.78 2.05 0 2.83L4 21.41c.39.39.9.59 1.41.59.51 0 1.02-.2 1.41-.59l7.78-7.78 2.81-2.81c.8-.78.8-2.07 0-2.86zM5.41 20L4 18.59l7.72-7.72 1.47 1.35L5.41 20z\"/>\n",
       "  </svg>\n",
       "      </button>\n",
       "      \n",
       "  <style>\n",
       "    .colab-df-container {\n",
       "      display:flex;\n",
       "      flex-wrap:wrap;\n",
       "      gap: 12px;\n",
       "    }\n",
       "\n",
       "    .colab-df-convert {\n",
       "      background-color: #E8F0FE;\n",
       "      border: none;\n",
       "      border-radius: 50%;\n",
       "      cursor: pointer;\n",
       "      display: none;\n",
       "      fill: #1967D2;\n",
       "      height: 32px;\n",
       "      padding: 0 0 0 0;\n",
       "      width: 32px;\n",
       "    }\n",
       "\n",
       "    .colab-df-convert:hover {\n",
       "      background-color: #E2EBFA;\n",
       "      box-shadow: 0px 1px 2px rgba(60, 64, 67, 0.3), 0px 1px 3px 1px rgba(60, 64, 67, 0.15);\n",
       "      fill: #174EA6;\n",
       "    }\n",
       "\n",
       "    [theme=dark] .colab-df-convert {\n",
       "      background-color: #3B4455;\n",
       "      fill: #D2E3FC;\n",
       "    }\n",
       "\n",
       "    [theme=dark] .colab-df-convert:hover {\n",
       "      background-color: #434B5C;\n",
       "      box-shadow: 0px 1px 3px 1px rgba(0, 0, 0, 0.15);\n",
       "      filter: drop-shadow(0px 1px 2px rgba(0, 0, 0, 0.3));\n",
       "      fill: #FFFFFF;\n",
       "    }\n",
       "  </style>\n",
       "\n",
       "      <script>\n",
       "        const buttonEl =\n",
       "          document.querySelector('#df-a1db5dc1-6502-49e6-ac27-78eb5c645445 button.colab-df-convert');\n",
       "        buttonEl.style.display =\n",
       "          google.colab.kernel.accessAllowed ? 'block' : 'none';\n",
       "\n",
       "        async function convertToInteractive(key) {\n",
       "          const element = document.querySelector('#df-a1db5dc1-6502-49e6-ac27-78eb5c645445');\n",
       "          const dataTable =\n",
       "            await google.colab.kernel.invokeFunction('convertToInteractive',\n",
       "                                                     [key], {});\n",
       "          if (!dataTable) return;\n",
       "\n",
       "          const docLinkHtml = 'Like what you see? Visit the ' +\n",
       "            '<a target=\"_blank\" href=https://colab.research.google.com/notebooks/data_table.ipynb>data table notebook</a>'\n",
       "            + ' to learn more about interactive tables.';\n",
       "          element.innerHTML = '';\n",
       "          dataTable['output_type'] = 'display_data';\n",
       "          await google.colab.output.renderOutput(dataTable, element);\n",
       "          const docLink = document.createElement('div');\n",
       "          docLink.innerHTML = docLinkHtml;\n",
       "          element.appendChild(docLink);\n",
       "        }\n",
       "      </script>\n",
       "    </div>\n",
       "  </div>\n",
       "  "
      ],
      "text/plain": [
       "       age          job  marital  ... euribor3m nr.employed  y\n",
       "0       56    housemaid  married  ...     4.857      5191.0  0\n",
       "1       57     services  married  ...     4.857      5191.0  0\n",
       "2       37     services  married  ...     4.857      5191.0  0\n",
       "3       40       admin.  married  ...     4.857      5191.0  0\n",
       "4       56     services  married  ...     4.857      5191.0  0\n",
       "...    ...          ...      ...  ...       ...         ... ..\n",
       "41183   73      retired  married  ...     1.028      4963.6  1\n",
       "41184   46  blue-collar  married  ...     1.028      4963.6  0\n",
       "41185   56      retired  married  ...     1.028      4963.6  0\n",
       "41186   44   technician  married  ...     1.028      4963.6  1\n",
       "41187   74      retired  married  ...     1.028      4963.6  0\n",
       "\n",
       "[41188 rows x 21 columns]"
      ]
     },
     "execution_count": 116,
     "metadata": {},
     "output_type": "execute_result"
    }
   ],
   "source": [
    "bankMarketingData = pd.read_csv(\"bank-additional-full.csv\", sep=\";\")\n",
    "bankMarketingData['y'] = bankMarketingData['y'].map({'yes': 1, 'no': 0})\n",
    "bankMarketingData"
   ]
  },
  {
   "cell_type": "code",
   "execution_count": 117,
   "metadata": {
    "colab": {
     "base_uri": "https://localhost:8080/"
    },
    "executionInfo": {
     "elapsed": 20,
     "status": "ok",
     "timestamp": 1641390750821,
     "user": {
      "displayName": "Yash Agarwal",
      "photoUrl": "https://lh3.googleusercontent.com/a-/AOh14GjD4-D-XQktOPkZ6NP6RRDeaZ9cA3FgNxKOzYhV3A=s64",
      "userId": "17270826592418786232"
     },
     "user_tz": -330
    },
    "id": "v0fmDlumV0Fb",
    "outputId": "f40e475b-69fe-4b39-f20c-f61e70714e01"
   },
   "outputs": [
    {
     "data": {
      "text/plain": [
       "5228.1    16234\n",
       "5099.1     8534\n",
       "5191.0     7763\n",
       "5195.8     3683\n",
       "5076.2     1663\n",
       "5017.5     1071\n",
       "4991.6      773\n",
       "5008.7      650\n",
       "4963.6      635\n",
       "5023.5      172\n",
       "5176.3       10\n",
       "Name: nr.employed, dtype: int64"
      ]
     },
     "execution_count": 117,
     "metadata": {},
     "output_type": "execute_result"
    }
   ],
   "source": [
    "bankMarketingData[\"nr.employed\"].value_counts()"
   ]
  },
  {
   "cell_type": "code",
   "execution_count": 118,
   "metadata": {
    "colab": {
     "base_uri": "https://localhost:8080/"
    },
    "executionInfo": {
     "elapsed": 15,
     "status": "ok",
     "timestamp": 1641390750821,
     "user": {
      "displayName": "Yash Agarwal",
      "photoUrl": "https://lh3.googleusercontent.com/a-/AOh14GjD4-D-XQktOPkZ6NP6RRDeaZ9cA3FgNxKOzYhV3A=s64",
      "userId": "17270826592418786232"
     },
     "user_tz": -330
    },
    "id": "wykJNP4qHqg_",
    "outputId": "9c198eee-6527-413a-80a9-a382f73725e0"
   },
   "outputs": [
    {
     "name": "stdout",
     "output_type": "stream",
     "text": [
      "<class 'pandas.core.frame.DataFrame'>\n",
      "RangeIndex: 41188 entries, 0 to 41187\n",
      "Data columns (total 21 columns):\n",
      " #   Column          Non-Null Count  Dtype  \n",
      "---  ------          --------------  -----  \n",
      " 0   age             41188 non-null  int64  \n",
      " 1   job             41188 non-null  object \n",
      " 2   marital         41188 non-null  object \n",
      " 3   education       41188 non-null  object \n",
      " 4   default         41188 non-null  object \n",
      " 5   housing         41188 non-null  object \n",
      " 6   loan            41188 non-null  object \n",
      " 7   contact         41188 non-null  object \n",
      " 8   month           41188 non-null  object \n",
      " 9   day_of_week     41188 non-null  object \n",
      " 10  duration        41188 non-null  int64  \n",
      " 11  campaign        41188 non-null  int64  \n",
      " 12  pdays           41188 non-null  int64  \n",
      " 13  previous        41188 non-null  int64  \n",
      " 14  poutcome        41188 non-null  object \n",
      " 15  emp.var.rate    41188 non-null  float64\n",
      " 16  cons.price.idx  41188 non-null  float64\n",
      " 17  cons.conf.idx   41188 non-null  float64\n",
      " 18  euribor3m       41188 non-null  float64\n",
      " 19  nr.employed     41188 non-null  float64\n",
      " 20  y               41188 non-null  int64  \n",
      "dtypes: float64(5), int64(6), object(10)\n",
      "memory usage: 6.6+ MB\n"
     ]
    }
   ],
   "source": [
    "bankMarketingData.info()"
   ]
  },
  {
   "cell_type": "code",
   "execution_count": 119,
   "metadata": {
    "executionInfo": {
     "elapsed": 13,
     "status": "ok",
     "timestamp": 1641390750822,
     "user": {
      "displayName": "Yash Agarwal",
      "photoUrl": "https://lh3.googleusercontent.com/a-/AOh14GjD4-D-XQktOPkZ6NP6RRDeaZ9cA3FgNxKOzYhV3A=s64",
      "userId": "17270826592418786232"
     },
     "user_tz": -330
    },
    "id": "mwmY6axKPUZa"
   },
   "outputs": [],
   "source": [
    "def categoricalValueCounts(fields, df):\n",
    "  for field in fields:\n",
    "    print(\"*\"*32)\n",
    "    print(f\"Value Counts for {field} is -:\")\n",
    "    print(df[f\"{field}\"].value_counts().sort_values(ascending=False))\n",
    "    print(\"*\"*32)"
   ]
  },
  {
   "cell_type": "code",
   "execution_count": 120,
   "metadata": {
    "colab": {
     "base_uri": "https://localhost:8080/"
    },
    "executionInfo": {
     "elapsed": 13,
     "status": "ok",
     "timestamp": 1641390750823,
     "user": {
      "displayName": "Yash Agarwal",
      "photoUrl": "https://lh3.googleusercontent.com/a-/AOh14GjD4-D-XQktOPkZ6NP6RRDeaZ9cA3FgNxKOzYhV3A=s64",
      "userId": "17270826592418786232"
     },
     "user_tz": -330
    },
    "id": "jMwsxhNzOkdG",
    "outputId": "37dddae4-c359-4827-8c5e-aa4e4d799cc1"
   },
   "outputs": [
    {
     "name": "stdout",
     "output_type": "stream",
     "text": [
      "********************************\n",
      "Value Counts for job is -:\n",
      "admin.           10422\n",
      "blue-collar       9254\n",
      "technician        6743\n",
      "services          3969\n",
      "management        2924\n",
      "retired           1720\n",
      "entrepreneur      1456\n",
      "self-employed     1421\n",
      "housemaid         1060\n",
      "unemployed        1014\n",
      "student            875\n",
      "unknown            330\n",
      "Name: job, dtype: int64\n",
      "********************************\n",
      "********************************\n",
      "Value Counts for marital is -:\n",
      "married     24928\n",
      "single      11568\n",
      "divorced     4612\n",
      "unknown        80\n",
      "Name: marital, dtype: int64\n",
      "********************************\n",
      "********************************\n",
      "Value Counts for education is -:\n",
      "university.degree      12168\n",
      "high.school             9515\n",
      "basic.9y                6045\n",
      "professional.course     5243\n",
      "basic.4y                4176\n",
      "basic.6y                2292\n",
      "unknown                 1731\n",
      "illiterate                18\n",
      "Name: education, dtype: int64\n",
      "********************************\n",
      "********************************\n",
      "Value Counts for default is -:\n",
      "no         32588\n",
      "unknown     8597\n",
      "yes            3\n",
      "Name: default, dtype: int64\n",
      "********************************\n",
      "********************************\n",
      "Value Counts for housing is -:\n",
      "yes        21576\n",
      "no         18622\n",
      "unknown      990\n",
      "Name: housing, dtype: int64\n",
      "********************************\n",
      "********************************\n",
      "Value Counts for loan is -:\n",
      "no         33950\n",
      "yes         6248\n",
      "unknown      990\n",
      "Name: loan, dtype: int64\n",
      "********************************\n",
      "********************************\n",
      "Value Counts for contact is -:\n",
      "cellular     26144\n",
      "telephone    15044\n",
      "Name: contact, dtype: int64\n",
      "********************************\n",
      "********************************\n",
      "Value Counts for month is -:\n",
      "may    13769\n",
      "jul     7174\n",
      "aug     6178\n",
      "jun     5318\n",
      "nov     4101\n",
      "apr     2632\n",
      "oct      718\n",
      "sep      570\n",
      "mar      546\n",
      "dec      182\n",
      "Name: month, dtype: int64\n",
      "********************************\n",
      "********************************\n",
      "Value Counts for day_of_week is -:\n",
      "thu    8623\n",
      "mon    8514\n",
      "wed    8134\n",
      "tue    8090\n",
      "fri    7827\n",
      "Name: day_of_week, dtype: int64\n",
      "********************************\n",
      "********************************\n",
      "Value Counts for poutcome is -:\n",
      "nonexistent    35563\n",
      "failure         4252\n",
      "success         1373\n",
      "Name: poutcome, dtype: int64\n",
      "********************************\n"
     ]
    }
   ],
   "source": [
    "categoricalFields = [\"job\", \"marital\", \"education\", \"default\", \"housing\", \"loan\", \"contact\", \"month\", \"day_of_week\", \"poutcome\"]\n",
    "categoricalValueCounts(categoricalFields, bankMarketingData)"
   ]
  },
  {
   "cell_type": "code",
   "execution_count": 121,
   "metadata": {
    "colab": {
     "base_uri": "https://localhost:8080/",
     "height": 300
    },
    "executionInfo": {
     "elapsed": 10,
     "status": "ok",
     "timestamp": 1641390750823,
     "user": {
      "displayName": "Yash Agarwal",
      "photoUrl": "https://lh3.googleusercontent.com/a-/AOh14GjD4-D-XQktOPkZ6NP6RRDeaZ9cA3FgNxKOzYhV3A=s64",
      "userId": "17270826592418786232"
     },
     "user_tz": -330
    },
    "id": "8zXdxGkrHlZ5",
    "outputId": "ebd3bca1-b882-45cf-a24b-6d2d26e79e8d"
   },
   "outputs": [
    {
     "data": {
      "text/html": [
       "\n",
       "  <div id=\"df-53d3fab8-e6a9-4363-a9e0-66cc0e2bee16\">\n",
       "    <div class=\"colab-df-container\">\n",
       "      <div>\n",
       "<style scoped>\n",
       "    .dataframe tbody tr th:only-of-type {\n",
       "        vertical-align: middle;\n",
       "    }\n",
       "\n",
       "    .dataframe tbody tr th {\n",
       "        vertical-align: top;\n",
       "    }\n",
       "\n",
       "    .dataframe thead th {\n",
       "        text-align: right;\n",
       "    }\n",
       "</style>\n",
       "<table border=\"1\" class=\"dataframe\">\n",
       "  <thead>\n",
       "    <tr style=\"text-align: right;\">\n",
       "      <th></th>\n",
       "      <th>age</th>\n",
       "      <th>duration</th>\n",
       "      <th>campaign</th>\n",
       "      <th>pdays</th>\n",
       "      <th>previous</th>\n",
       "      <th>emp.var.rate</th>\n",
       "      <th>cons.price.idx</th>\n",
       "      <th>cons.conf.idx</th>\n",
       "      <th>euribor3m</th>\n",
       "      <th>nr.employed</th>\n",
       "      <th>y</th>\n",
       "    </tr>\n",
       "  </thead>\n",
       "  <tbody>\n",
       "    <tr>\n",
       "      <th>count</th>\n",
       "      <td>41188.00000</td>\n",
       "      <td>41188.000000</td>\n",
       "      <td>41188.000000</td>\n",
       "      <td>41188.000000</td>\n",
       "      <td>41188.000000</td>\n",
       "      <td>41188.000000</td>\n",
       "      <td>41188.000000</td>\n",
       "      <td>41188.000000</td>\n",
       "      <td>41188.000000</td>\n",
       "      <td>41188.000000</td>\n",
       "      <td>41188.000000</td>\n",
       "    </tr>\n",
       "    <tr>\n",
       "      <th>mean</th>\n",
       "      <td>40.02406</td>\n",
       "      <td>258.285010</td>\n",
       "      <td>2.567593</td>\n",
       "      <td>962.475454</td>\n",
       "      <td>0.172963</td>\n",
       "      <td>0.081886</td>\n",
       "      <td>93.575664</td>\n",
       "      <td>-40.502600</td>\n",
       "      <td>3.621291</td>\n",
       "      <td>5167.035911</td>\n",
       "      <td>0.112654</td>\n",
       "    </tr>\n",
       "    <tr>\n",
       "      <th>std</th>\n",
       "      <td>10.42125</td>\n",
       "      <td>259.279249</td>\n",
       "      <td>2.770014</td>\n",
       "      <td>186.910907</td>\n",
       "      <td>0.494901</td>\n",
       "      <td>1.570960</td>\n",
       "      <td>0.578840</td>\n",
       "      <td>4.628198</td>\n",
       "      <td>1.734447</td>\n",
       "      <td>72.251528</td>\n",
       "      <td>0.316173</td>\n",
       "    </tr>\n",
       "    <tr>\n",
       "      <th>min</th>\n",
       "      <td>17.00000</td>\n",
       "      <td>0.000000</td>\n",
       "      <td>1.000000</td>\n",
       "      <td>0.000000</td>\n",
       "      <td>0.000000</td>\n",
       "      <td>-3.400000</td>\n",
       "      <td>92.201000</td>\n",
       "      <td>-50.800000</td>\n",
       "      <td>0.634000</td>\n",
       "      <td>4963.600000</td>\n",
       "      <td>0.000000</td>\n",
       "    </tr>\n",
       "    <tr>\n",
       "      <th>25%</th>\n",
       "      <td>32.00000</td>\n",
       "      <td>102.000000</td>\n",
       "      <td>1.000000</td>\n",
       "      <td>999.000000</td>\n",
       "      <td>0.000000</td>\n",
       "      <td>-1.800000</td>\n",
       "      <td>93.075000</td>\n",
       "      <td>-42.700000</td>\n",
       "      <td>1.344000</td>\n",
       "      <td>5099.100000</td>\n",
       "      <td>0.000000</td>\n",
       "    </tr>\n",
       "    <tr>\n",
       "      <th>50%</th>\n",
       "      <td>38.00000</td>\n",
       "      <td>180.000000</td>\n",
       "      <td>2.000000</td>\n",
       "      <td>999.000000</td>\n",
       "      <td>0.000000</td>\n",
       "      <td>1.100000</td>\n",
       "      <td>93.749000</td>\n",
       "      <td>-41.800000</td>\n",
       "      <td>4.857000</td>\n",
       "      <td>5191.000000</td>\n",
       "      <td>0.000000</td>\n",
       "    </tr>\n",
       "    <tr>\n",
       "      <th>75%</th>\n",
       "      <td>47.00000</td>\n",
       "      <td>319.000000</td>\n",
       "      <td>3.000000</td>\n",
       "      <td>999.000000</td>\n",
       "      <td>0.000000</td>\n",
       "      <td>1.400000</td>\n",
       "      <td>93.994000</td>\n",
       "      <td>-36.400000</td>\n",
       "      <td>4.961000</td>\n",
       "      <td>5228.100000</td>\n",
       "      <td>0.000000</td>\n",
       "    </tr>\n",
       "    <tr>\n",
       "      <th>max</th>\n",
       "      <td>98.00000</td>\n",
       "      <td>4918.000000</td>\n",
       "      <td>56.000000</td>\n",
       "      <td>999.000000</td>\n",
       "      <td>7.000000</td>\n",
       "      <td>1.400000</td>\n",
       "      <td>94.767000</td>\n",
       "      <td>-26.900000</td>\n",
       "      <td>5.045000</td>\n",
       "      <td>5228.100000</td>\n",
       "      <td>1.000000</td>\n",
       "    </tr>\n",
       "  </tbody>\n",
       "</table>\n",
       "</div>\n",
       "      <button class=\"colab-df-convert\" onclick=\"convertToInteractive('df-53d3fab8-e6a9-4363-a9e0-66cc0e2bee16')\"\n",
       "              title=\"Convert this dataframe to an interactive table.\"\n",
       "              style=\"display:none;\">\n",
       "        \n",
       "  <svg xmlns=\"http://www.w3.org/2000/svg\" height=\"24px\"viewBox=\"0 0 24 24\"\n",
       "       width=\"24px\">\n",
       "    <path d=\"M0 0h24v24H0V0z\" fill=\"none\"/>\n",
       "    <path d=\"M18.56 5.44l.94 2.06.94-2.06 2.06-.94-2.06-.94-.94-2.06-.94 2.06-2.06.94zm-11 1L8.5 8.5l.94-2.06 2.06-.94-2.06-.94L8.5 2.5l-.94 2.06-2.06.94zm10 10l.94 2.06.94-2.06 2.06-.94-2.06-.94-.94-2.06-.94 2.06-2.06.94z\"/><path d=\"M17.41 7.96l-1.37-1.37c-.4-.4-.92-.59-1.43-.59-.52 0-1.04.2-1.43.59L10.3 9.45l-7.72 7.72c-.78.78-.78 2.05 0 2.83L4 21.41c.39.39.9.59 1.41.59.51 0 1.02-.2 1.41-.59l7.78-7.78 2.81-2.81c.8-.78.8-2.07 0-2.86zM5.41 20L4 18.59l7.72-7.72 1.47 1.35L5.41 20z\"/>\n",
       "  </svg>\n",
       "      </button>\n",
       "      \n",
       "  <style>\n",
       "    .colab-df-container {\n",
       "      display:flex;\n",
       "      flex-wrap:wrap;\n",
       "      gap: 12px;\n",
       "    }\n",
       "\n",
       "    .colab-df-convert {\n",
       "      background-color: #E8F0FE;\n",
       "      border: none;\n",
       "      border-radius: 50%;\n",
       "      cursor: pointer;\n",
       "      display: none;\n",
       "      fill: #1967D2;\n",
       "      height: 32px;\n",
       "      padding: 0 0 0 0;\n",
       "      width: 32px;\n",
       "    }\n",
       "\n",
       "    .colab-df-convert:hover {\n",
       "      background-color: #E2EBFA;\n",
       "      box-shadow: 0px 1px 2px rgba(60, 64, 67, 0.3), 0px 1px 3px 1px rgba(60, 64, 67, 0.15);\n",
       "      fill: #174EA6;\n",
       "    }\n",
       "\n",
       "    [theme=dark] .colab-df-convert {\n",
       "      background-color: #3B4455;\n",
       "      fill: #D2E3FC;\n",
       "    }\n",
       "\n",
       "    [theme=dark] .colab-df-convert:hover {\n",
       "      background-color: #434B5C;\n",
       "      box-shadow: 0px 1px 3px 1px rgba(0, 0, 0, 0.15);\n",
       "      filter: drop-shadow(0px 1px 2px rgba(0, 0, 0, 0.3));\n",
       "      fill: #FFFFFF;\n",
       "    }\n",
       "  </style>\n",
       "\n",
       "      <script>\n",
       "        const buttonEl =\n",
       "          document.querySelector('#df-53d3fab8-e6a9-4363-a9e0-66cc0e2bee16 button.colab-df-convert');\n",
       "        buttonEl.style.display =\n",
       "          google.colab.kernel.accessAllowed ? 'block' : 'none';\n",
       "\n",
       "        async function convertToInteractive(key) {\n",
       "          const element = document.querySelector('#df-53d3fab8-e6a9-4363-a9e0-66cc0e2bee16');\n",
       "          const dataTable =\n",
       "            await google.colab.kernel.invokeFunction('convertToInteractive',\n",
       "                                                     [key], {});\n",
       "          if (!dataTable) return;\n",
       "\n",
       "          const docLinkHtml = 'Like what you see? Visit the ' +\n",
       "            '<a target=\"_blank\" href=https://colab.research.google.com/notebooks/data_table.ipynb>data table notebook</a>'\n",
       "            + ' to learn more about interactive tables.';\n",
       "          element.innerHTML = '';\n",
       "          dataTable['output_type'] = 'display_data';\n",
       "          await google.colab.output.renderOutput(dataTable, element);\n",
       "          const docLink = document.createElement('div');\n",
       "          docLink.innerHTML = docLinkHtml;\n",
       "          element.appendChild(docLink);\n",
       "        }\n",
       "      </script>\n",
       "    </div>\n",
       "  </div>\n",
       "  "
      ],
      "text/plain": [
       "               age      duration  ...   nr.employed             y\n",
       "count  41188.00000  41188.000000  ...  41188.000000  41188.000000\n",
       "mean      40.02406    258.285010  ...   5167.035911      0.112654\n",
       "std       10.42125    259.279249  ...     72.251528      0.316173\n",
       "min       17.00000      0.000000  ...   4963.600000      0.000000\n",
       "25%       32.00000    102.000000  ...   5099.100000      0.000000\n",
       "50%       38.00000    180.000000  ...   5191.000000      0.000000\n",
       "75%       47.00000    319.000000  ...   5228.100000      0.000000\n",
       "max       98.00000   4918.000000  ...   5228.100000      1.000000\n",
       "\n",
       "[8 rows x 11 columns]"
      ]
     },
     "execution_count": 121,
     "metadata": {},
     "output_type": "execute_result"
    }
   ],
   "source": [
    "bankMarketingData.describe()"
   ]
  },
  {
   "cell_type": "markdown",
   "metadata": {
    "id": "fGLBPWqehCR7"
   },
   "source": [
    "**Data Visulization**"
   ]
  },
  {
   "cell_type": "code",
   "execution_count": 146,
   "metadata": {
    "colab": {
     "base_uri": "https://localhost:8080/",
     "height": 537
    },
    "executionInfo": {
     "elapsed": 1201,
     "status": "ok",
     "timestamp": 1641391102354,
     "user": {
      "displayName": "Yash Agarwal",
      "photoUrl": "https://lh3.googleusercontent.com/a-/AOh14GjD4-D-XQktOPkZ6NP6RRDeaZ9cA3FgNxKOzYhV3A=s64",
      "userId": "17270826592418786232"
     },
     "user_tz": -330
    },
    "id": "7sEhM_bSiD2T",
    "outputId": "47453625-475e-4e58-d15a-68d46c8095b2"
   },
   "outputs": [
    {
     "data": {
      "text/plain": [
       "Text(0.5, 1.0, 'Age Count Distribution')"
      ]
     },
     "execution_count": 146,
     "metadata": {},
     "output_type": "execute_result"
    },
    {
     "data": {
      "image/png": "[encoded data removed]",
      "text/plain": [
       "<Figure size 1440x576 with 1 Axes>"
      ]
     },
     "metadata": {
      "needs_background": "light"
     },
     "output_type": "display_data"
    }
   ],
   "source": [
    "fig, ax = plt.subplots()\n",
    "fig.set_size_inches(20, 8)\n",
    "sns.countplot(x = 'age', data = bankMarketingData)\n",
    "ax.set_xlabel('Age', fontsize=15)\n",
    "ax.set_ylabel('Count', fontsize=15)\n",
    "ax.set_title('Age Count Distribution', fontsize=15)"
   ]
  },
  {
   "cell_type": "code",
   "execution_count": 143,
   "metadata": {
    "colab": {
     "base_uri": "https://localhost:8080/",
     "height": 362
    },
    "executionInfo": {
     "elapsed": 527,
     "status": "ok",
     "timestamp": 1641391054667,
     "user": {
      "displayName": "Yash Agarwal",
      "photoUrl": "https://lh3.googleusercontent.com/a-/AOh14GjD4-D-XQktOPkZ6NP6RRDeaZ9cA3FgNxKOzYhV3A=s64",
      "userId": "17270826592418786232"
     },
     "user_tz": -330
    },
    "id": "5ZaHri8mKI11",
    "outputId": "6673afe6-410f-4813-c01e-435d5ac5af77"
   },
   "outputs": [
    {
     "data": {
      "image/png": "[encoded data removed]",
      "text/plain": [
       "<Figure size 1440x360 with 1 Axes>"
      ]
     },
     "metadata": {
      "needs_background": "light"
     },
     "output_type": "display_data"
    }
   ],
   "source": [
    "fig, ax = plt.subplots()\n",
    "fig.set_size_inches(20, 5)\n",
    "sns.countplot(x = 'education', data = bankMarketingData)\n",
    "ax.set_xlabel('Education', fontsize=15)\n",
    "ax.set_ylabel('Count', fontsize=15)\n",
    "ax.set_title('Education Count Distribution', fontsize=15)\n",
    "ax.tick_params(labelsize=15)"
   ]
  },
  {
   "cell_type": "code",
   "execution_count": 142,
   "metadata": {
    "colab": {
     "base_uri": "https://localhost:8080/",
     "height": 362
    },
    "executionInfo": {
     "elapsed": 467,
     "status": "ok",
     "timestamp": 1641391048705,
     "user": {
      "displayName": "Yash Agarwal",
      "photoUrl": "https://lh3.googleusercontent.com/a-/AOh14GjD4-D-XQktOPkZ6NP6RRDeaZ9cA3FgNxKOzYhV3A=s64",
      "userId": "17270826592418786232"
     },
     "user_tz": -330
    },
    "id": "PDZsxx8BhWbD",
    "outputId": "cc822aeb-5af5-4f7c-b997-64fe893a7c1f"
   },
   "outputs": [
    {
     "data": {
      "image/png": "[encoded data removed]",
      "text/plain": [
       "<Figure size 720x360 with 1 Axes>"
      ]
     },
     "metadata": {
      "needs_background": "light"
     },
     "output_type": "display_data"
    }
   ],
   "source": [
    "fig, ax = plt.subplots()\n",
    "fig.set_size_inches(10, 5)\n",
    "sns.countplot(x = 'marital', data = bankMarketingData)\n",
    "ax.set_xlabel('Marital', fontsize=15)\n",
    "ax.set_ylabel('Count', fontsize=15)\n",
    "ax.set_title('Marital Status Count Distribution', fontsize=15)\n",
    "ax.tick_params(labelsize=15)"
   ]
  },
  {
   "cell_type": "code",
   "execution_count": 151,
   "metadata": {
    "colab": {
     "base_uri": "https://localhost:8080/",
     "height": 397
    },
    "executionInfo": {
     "elapsed": 1166,
     "status": "ok",
     "timestamp": 1641391228066,
     "user": {
      "displayName": "Yash Agarwal",
      "photoUrl": "https://lh3.googleusercontent.com/a-/AOh14GjD4-D-XQktOPkZ6NP6RRDeaZ9cA3FgNxKOzYhV3A=s64",
      "userId": "17270826592418786232"
     },
     "user_tz": -330
    },
    "id": "HxbSPw4TicDE",
    "outputId": "a9960a72-9f06-414a-b8eb-01bca8dcf76e"
   },
   "outputs": [
    {
     "data": {
      "image/png": "[encoded data removed]",
      "text/plain": [
       "<Figure size 1080x432 with 3 Axes>"
      ]
     },
     "metadata": {
      "needs_background": "light"
     },
     "output_type": "display_data"
    }
   ],
   "source": [
    "# Default, has credit in default ?\n",
    "fig, (ax1, ax2, ax3) = plt.subplots(nrows = 1, ncols = 3, figsize = (15,6))\n",
    "sns.countplot(x = 'default', data = bankMarketingData, ax = ax1, order = ['no', 'unknown', 'yes'])\n",
    "ax1.set_title('Default', fontsize=15)\n",
    "ax1.set_xlabel('')\n",
    "ax1.set_ylabel('Count', fontsize=15)\n",
    "ax1.tick_params(labelsize=15)\n",
    "\n",
    "# Housing, has housing loan ?\n",
    "sns.countplot(x = 'housing', data = bankMarketingData, ax = ax2, order = ['no', 'unknown', 'yes'])\n",
    "ax2.set_title('Housing', fontsize=15)\n",
    "ax2.set_xlabel('')\n",
    "ax2.set_ylabel('Count', fontsize=15)\n",
    "ax2.tick_params(labelsize=15)\n",
    "\n",
    "# Loan, has personal loan ?\n",
    "sns.countplot(x = 'loan', data = bankMarketingData, ax = ax3, order = ['no', 'unknown', 'yes'])\n",
    "ax3.set_title('Loan', fontsize=15)\n",
    "ax3.set_xlabel('')\n",
    "ax3.set_ylabel('Count', fontsize=15)\n",
    "ax3.tick_params(labelsize=15)\n",
    "\n",
    "plt.subplots_adjust(wspace=0.6)"
   ]
  },
  {
   "cell_type": "code",
   "execution_count": 122,
   "metadata": {
    "colab": {
     "base_uri": "https://localhost:8080/",
     "height": 879
    },
    "executionInfo": {
     "elapsed": 3013,
     "status": "ok",
     "timestamp": 1641390753827,
     "user": {
      "displayName": "Yash Agarwal",
      "photoUrl": "https://lh3.googleusercontent.com/a-/AOh14GjD4-D-XQktOPkZ6NP6RRDeaZ9cA3FgNxKOzYhV3A=s64",
      "userId": "17270826592418786232"
     },
     "user_tz": -330
    },
    "id": "c7KHC_LyIG1t",
    "outputId": "4a84c46b-1e2b-4481-8e44-e930cf43b6d0"
   },
   "outputs": [
    {
     "data": {
      "image/png": "[encoded data removed]",
      "text/plain": [
       "<Figure size 1440x1080 with 12 Axes>"
      ]
     },
     "metadata": {
      "needs_background": "light"
     },
     "output_type": "display_data"
    }
   ],
   "source": [
    "bankMarketingData.hist(bins=20, figsize=(20,15))\n",
    "plt.show()"
   ]
  },
  {
   "cell_type": "code",
   "execution_count": 123,
   "metadata": {
    "executionInfo": {
     "elapsed": 27,
     "status": "ok",
     "timestamp": 1641390753828,
     "user": {
      "displayName": "Yash Agarwal",
      "photoUrl": "https://lh3.googleusercontent.com/a-/AOh14GjD4-D-XQktOPkZ6NP6RRDeaZ9cA3FgNxKOzYhV3A=s64",
      "userId": "17270826592418786232"
     },
     "user_tz": -330
    },
    "id": "12nel3EEI2Q3"
   },
   "outputs": [],
   "source": [
    "train_set, test_set = train_test_split(bankMarketingData, test_size=0.2, random_state=42)"
   ]
  },
  {
   "cell_type": "code",
   "execution_count": 124,
   "metadata": {
    "executionInfo": {
     "elapsed": 25,
     "status": "ok",
     "timestamp": 1641390753828,
     "user": {
      "displayName": "Yash Agarwal",
      "photoUrl": "https://lh3.googleusercontent.com/a-/AOh14GjD4-D-XQktOPkZ6NP6RRDeaZ9cA3FgNxKOzYhV3A=s64",
      "userId": "17270826592418786232"
     },
     "user_tz": -330
    },
    "id": "XScbx0X8JvgJ"
   },
   "outputs": [],
   "source": [
    "bankMData = train_set.copy()"
   ]
  },
  {
   "cell_type": "code",
   "execution_count": 135,
   "metadata": {
    "colab": {
     "base_uri": "https://localhost:8080/"
    },
    "executionInfo": {
     "elapsed": 840,
     "status": "ok",
     "timestamp": 1641390807151,
     "user": {
      "displayName": "Yash Agarwal",
      "photoUrl": "https://lh3.googleusercontent.com/a-/AOh14GjD4-D-XQktOPkZ6NP6RRDeaZ9cA3FgNxKOzYhV3A=s64",
      "userId": "17270826592418786232"
     },
     "user_tz": -330
    },
    "id": "FrFZtzfmKBXK",
    "outputId": "397bb430-aa95-42bb-cb5b-4a99fa37e5a0"
   },
   "outputs": [
    {
     "data": {
      "text/plain": [
       "age               1.000000\n",
       "cons.conf.idx     0.127198\n",
       "y                 0.027631\n",
       "previous          0.024633\n",
       "euribor3m         0.011134\n",
       "campaign          0.008029\n",
       "cons.price.idx    0.005697\n",
       "emp.var.rate      0.000654\n",
       "duration         -0.002372\n",
       "nr.employed      -0.018225\n",
       "pdays            -0.037208\n",
       "Name: age, dtype: float64"
      ]
     },
     "execution_count": 135,
     "metadata": {},
     "output_type": "execute_result"
    }
   ],
   "source": [
    "corr_matrix = bankMData.corr()\n",
    "corr_matrix[\"age\"].sort_values(ascending=False)"
   ]
  },
  {
   "cell_type": "code",
   "execution_count": 127,
   "metadata": {
    "executionInfo": {
     "elapsed": 23,
     "status": "ok",
     "timestamp": 1641390753829,
     "user": {
      "displayName": "Yash Agarwal",
      "photoUrl": "https://lh3.googleusercontent.com/a-/AOh14GjD4-D-XQktOPkZ6NP6RRDeaZ9cA3FgNxKOzYhV3A=s64",
      "userId": "17270826592418786232"
     },
     "user_tz": -330
    },
    "id": "1jiAU7bOLGtJ"
   },
   "outputs": [],
   "source": [
    "bankMData_X = bankMData.drop(\"y\", axis=1)\n",
    "bankMData_Y = bankMData[\"y\"]"
   ]
  },
  {
   "cell_type": "code",
   "execution_count": 128,
   "metadata": {
    "executionInfo": {
     "elapsed": 23,
     "status": "ok",
     "timestamp": 1641390753829,
     "user": {
      "displayName": "Yash Agarwal",
      "photoUrl": "https://lh3.googleusercontent.com/a-/AOh14GjD4-D-XQktOPkZ6NP6RRDeaZ9cA3FgNxKOzYhV3A=s64",
      "userId": "17270826592418786232"
     },
     "user_tz": -330
    },
    "id": "A_W7P_IwN2oH"
   },
   "outputs": [],
   "source": [
    "#Custom Transformer that extracts columns passed as argument to its constructor \n",
    "class FeatureSelector( BaseEstimator, TransformerMixin ):\n",
    "    def __init__( self, feature_names ):\n",
    "        self._feature_names = feature_names \n",
    "     \n",
    "    def fit( self, X, y = None ):\n",
    "        return self \n",
    "\n",
    "    def transform( self, X, y = None ):\n",
    "        return X[ self._feature_names ] \n",
    "\n",
    "\n",
    "class NumericalTransformer( BaseEstimator, TransformerMixin ):\n",
    "    def __init__(self ):\n",
    "        pass\n",
    "        \n",
    "    def fit( self, X, y = None  ):\n",
    "        return self\n",
    "    \n",
    "    def transform(self, X , y = None ):\n",
    "       #returns numpy array\n",
    "       return X.values\n",
    "\n",
    "\n",
    "class CategoricalTransformer( BaseEstimator, TransformerMixin ):\n",
    "    def __init__(self ):\n",
    "        pass\n",
    "        \n",
    "    def fit( self, X, y = None  ):\n",
    "        return self\n",
    "    \n",
    "    def transform(self, X , y = None ):\n",
    "       X.loc[X['job'] == \"unknown\" ,'job'] = \"unemployed\"\n",
    "       X.loc[X['marital'] == \"unknown\" ,'marital'] = \"single\"\n",
    "       X.loc[X['education'] == \"unknown\" ,'education'] = \"illiterate\"\n",
    "       X.loc[X['default'] == \"unknown\" ,'default'] = \"yes\"\n",
    "      \n",
    "       #returns numpy array\n",
    "       return X.values"
   ]
  },
  {
   "cell_type": "code",
   "execution_count": 129,
   "metadata": {
    "executionInfo": {
     "elapsed": 23,
     "status": "ok",
     "timestamp": 1641390753829,
     "user": {
      "displayName": "Yash Agarwal",
      "photoUrl": "https://lh3.googleusercontent.com/a-/AOh14GjD4-D-XQktOPkZ6NP6RRDeaZ9cA3FgNxKOzYhV3A=s64",
      "userId": "17270826592418786232"
     },
     "user_tz": -330
    },
    "id": "9GQiisLjMfhJ"
   },
   "outputs": [],
   "source": [
    "#Categrical features to pass down the categorical pipeline \n",
    "cateforical_features = [\"job\", \"marital\", \"education\", \"default\", \"housing\", \"loan\", \"day_of_week\", \"poutcome\"]\n",
    "\n",
    "#Numerical features to pass down the numerical pipeline \n",
    "numerical_features = ['age', 'pdays', 'campaign', 'previous', 'emp.var.rate', 'cons.price.idx', 'cons.conf.idx', 'euribor3m', 'nr.employed']\n",
    "\n",
    "#Defining the steps in the categorical pipeline \n",
    "categorical_pipeline = Pipeline( steps = [ \n",
    "                                          ( 'cat_selector', FeatureSelector(cateforical_features) ),\n",
    "                                          ( 'cat_transformer', CategoricalTransformer() ), \n",
    "                                          ( 'one_hot_encoder', OneHotEncoder( sparse = False ) ) \n",
    "                               ])\n",
    "    \n",
    "#Defining the steps in the numerical pipeline     \n",
    "numerical_pipeline = Pipeline( steps = [ \n",
    "                                        ( 'num_selector', FeatureSelector(numerical_features) ),\n",
    "                                        # ( 'num_transformer', NumericalTransformer() ),\n",
    "                                        ('imputer', SimpleImputer(strategy = 'median') ),\n",
    "                                        ( 'std_scaler', StandardScaler() ) \n",
    "                            ])\n",
    "\n",
    "full_pipeline = FeatureUnion( transformer_list = [ \n",
    "                                                  ( 'categorical_pipeline', categorical_pipeline ), \n",
    "                                                  ( 'numerical_pipeline', numerical_pipeline ) \n",
    "                                              ])\n"
   ]
  },
  {
   "cell_type": "code",
   "execution_count": 130,
   "metadata": {
    "executionInfo": {
     "elapsed": 23,
     "status": "ok",
     "timestamp": 1641390753830,
     "user": {
      "displayName": "Yash Agarwal",
      "photoUrl": "https://lh3.googleusercontent.com/a-/AOh14GjD4-D-XQktOPkZ6NP6RRDeaZ9cA3FgNxKOzYhV3A=s64",
      "userId": "17270826592418786232"
     },
     "user_tz": -330
    },
    "id": "x29d8DUMTBLt"
   },
   "outputs": [],
   "source": [
    "bankMData_Y_prep = np.array(bankMData_Y)\n",
    "bankMData_X_prep = full_pipeline.fit_transform(bankMData_X)"
   ]
  },
  {
   "cell_type": "code",
   "execution_count": 131,
   "metadata": {
    "colab": {
     "base_uri": "https://localhost:8080/"
    },
    "executionInfo": {
     "elapsed": 23,
     "status": "ok",
     "timestamp": 1641390753830,
     "user": {
      "displayName": "Yash Agarwal",
      "photoUrl": "https://lh3.googleusercontent.com/a-/AOh14GjD4-D-XQktOPkZ6NP6RRDeaZ9cA3FgNxKOzYhV3A=s64",
      "userId": "17270826592418786232"
     },
     "user_tz": -330
    },
    "id": "eNo9iQ5oYWFN",
    "outputId": "c4d3ce4a-dc74-447a-aa5a-7f1cefb8a503"
   },
   "outputs": [
    {
     "data": {
      "text/plain": [
       "array([0, 0, 0, ..., 1, 0, 0])"
      ]
     },
     "execution_count": 131,
     "metadata": {},
     "output_type": "execute_result"
    }
   ],
   "source": [
    "bankMData_Y_prep"
   ]
  },
  {
   "cell_type": "code",
   "execution_count": 132,
   "metadata": {
    "colab": {
     "base_uri": "https://localhost:8080/"
    },
    "executionInfo": {
     "elapsed": 1024,
     "status": "ok",
     "timestamp": 1641390754832,
     "user": {
      "displayName": "Yash Agarwal",
      "photoUrl": "https://lh3.googleusercontent.com/a-/AOh14GjD4-D-XQktOPkZ6NP6RRDeaZ9cA3FgNxKOzYhV3A=s64",
      "userId": "17270826592418786232"
     },
     "user_tz": -330
    },
    "id": "usP2BESEXe-6",
    "outputId": "975e73cb-fbed-49a8-fb3b-28d1f0f806a0"
   },
   "outputs": [
    {
     "data": {
      "text/plain": [
       "LogisticRegression(max_iter=10000)"
      ]
     },
     "execution_count": 132,
     "metadata": {},
     "output_type": "execute_result"
    }
   ],
   "source": [
    "from sklearn.linear_model import LogisticRegression\n",
    "\n",
    "log_reg = LogisticRegression(max_iter=10000)\n",
    "log_reg.fit(bankMData_X_prep, bankMData_Y)"
   ]
  },
  {
   "cell_type": "code",
   "execution_count": 133,
   "metadata": {
    "executionInfo": {
     "elapsed": 11,
     "status": "ok",
     "timestamp": 1641390754833,
     "user": {
      "displayName": "Yash Agarwal",
      "photoUrl": "https://lh3.googleusercontent.com/a-/AOh14GjD4-D-XQktOPkZ6NP6RRDeaZ9cA3FgNxKOzYhV3A=s64",
      "userId": "17270826592418786232"
     },
     "user_tz": -330
    },
    "id": "qsgSKAw4YBZ_"
   },
   "outputs": [],
   "source": [
    "##Preparing Test Set\n",
    "testSet_x = test_set.drop([\"y\"], axis=1)\n",
    "testSet_x_prep = full_pipeline.transform(testSet_x)\n",
    "\n",
    "testSet_y_labels = np.array(test_set[\"y\"])\n",
    "\n",
    "testSet_y_pred = log_reg.predict(testSet_x_prep)"
   ]
  },
  {
   "cell_type": "code",
   "execution_count": 155,
   "metadata": {
    "executionInfo": {
     "elapsed": 402,
     "status": "ok",
     "timestamp": 1641391968909,
     "user": {
      "displayName": "Yash Agarwal",
      "photoUrl": "https://lh3.googleusercontent.com/a-/AOh14GjD4-D-XQktOPkZ6NP6RRDeaZ9cA3FgNxKOzYhV3A=s64",
      "userId": "17270826592418786232"
     },
     "user_tz": -330
    },
    "id": "6dkAnkvDaf7-"
   },
   "outputs": [],
   "source": [
    "from sklearn.metrics import confusion_matrix\n",
    "\n",
    "score = log_reg.score(testSet_x_prep, testSet_y_labels)\n",
    "cm = confusion_matrix(testSet_y_labels, testSet_y_pred)"
   ]
  },
  {
   "cell_type": "code",
   "execution_count": 156,
   "metadata": {
    "colab": {
     "base_uri": "https://localhost:8080/"
    },
    "executionInfo": {
     "elapsed": 7,
     "status": "ok",
     "timestamp": 1641391994175,
     "user": {
      "displayName": "Yash Agarwal",
      "photoUrl": "https://lh3.googleusercontent.com/a-/AOh14GjD4-D-XQktOPkZ6NP6RRDeaZ9cA3FgNxKOzYhV3A=s64",
      "userId": "17270826592418786232"
     },
     "user_tz": -330
    },
    "id": "LPXjGz8Tk_tM",
    "outputId": "58966b59-f158-4f5f-e882-828deadcf7eb"
   },
   "outputs": [
    {
     "name": "stdout",
     "output_type": "stream",
     "text": [
      "Score -:  0.8970623937848993\n",
      "Confusion matrix -:\n",
      "[[7207   96]\n",
      " [ 752  183]]\n"
     ]
    }
   ],
   "source": [
    "print(\"Score -: \", score)\n",
    "print(\"Confusion matrix -:\")\n",
    "print(cm)"
   ]
  },
  {
   "cell_type": "code",
   "execution_count": 158,
   "metadata": {
    "colab": {
     "base_uri": "https://localhost:8080/"
    },
    "executionInfo": {
     "elapsed": 414,
     "status": "ok",
     "timestamp": 1641392015980,
     "user": {
      "displayName": "Yash Agarwal",
      "photoUrl": "https://lh3.googleusercontent.com/a-/AOh14GjD4-D-XQktOPkZ6NP6RRDeaZ9cA3FgNxKOzYhV3A=s64",
      "userId": "17270826592418786232"
     },
     "user_tz": -330
    },
    "id": "NDXYolkcld9g",
    "outputId": "1c94508c-3138-48b5-bbc1-e431bb6c1c1e"
   },
   "outputs": [
    {
     "name": "stdout",
     "output_type": "stream",
     "text": [
      "Reports\n",
      "               precision    recall  f1-score   support\n",
      "\n",
      "           0       0.91      0.99      0.94      7303\n",
      "           1       0.66      0.20      0.30       935\n",
      "\n",
      "    accuracy                           0.90      8238\n",
      "   macro avg       0.78      0.59      0.62      8238\n",
      "weighted avg       0.88      0.90      0.87      8238\n",
      "\n"
     ]
    }
   ],
   "source": [
    "from sklearn.metrics import classification_report\n",
    "\n",
    "print('Reports\\n',classification_report(testSet_y_labels, testSet_y_pred))"
   ]
  },
  {
   "cell_type": "code",
   "execution_count": 153,
   "metadata": {
    "colab": {
     "base_uri": "https://localhost:8080/",
     "height": 537
    },
    "executionInfo": {
     "elapsed": 10,
     "status": "ok",
     "timestamp": 1641391865321,
     "user": {
      "displayName": "Yash Agarwal",
      "photoUrl": "https://lh3.googleusercontent.com/a-/AOh14GjD4-D-XQktOPkZ6NP6RRDeaZ9cA3FgNxKOzYhV3A=s64",
      "userId": "17270826592418786232"
     },
     "user_tz": -330
    },
    "id": "mwN7oAtjk9DA",
    "outputId": "7a4d739c-8544-4364-dab8-4f44e4f56f9e"
   },
   "outputs": [
    {
     "data": {
      "text/plain": [
       "Text(0.5, 1.0, 'Accuracy Score: 0.8970623937848993')"
      ]
     },
     "execution_count": 153,
     "metadata": {},
     "output_type": "execute_result"
    },
    {
     "data": {
      "image/png": "[encoded data removed]",
      "text/plain": [
       "<Figure size 648x648 with 2 Axes>"
      ]
     },
     "metadata": {
      "needs_background": "light"
     },
     "output_type": "display_data"
    }
   ],
   "source": [
    "plt.figure(figsize=(9,9))\n",
    "sns.heatmap(cm, annot=True, fmt=\".3f\", linewidths=.5, square = True, cmap = 'Blues_r')\n",
    "plt.ylabel('Actual label')\n",
    "plt.xlabel('Predicted label')\n",
    "all_sample_title = 'Accuracy Score: {0}'.format(score)\n",
    "plt.title(all_sample_title, size = 15)"
   ]
  }
 ],
 "metadata": {
  "colab": {
   "authorship_tag": "ABX9TyMq69niTWlWSctLT+aWirQF",
   "collapsed_sections": [],
   "name": "BankMarketingAnalysis.ipynb",
   "provenance": []
  },
  "kernelspec": {
   "display_name": "Python 3",
   "language": "python",
   "name": "python3"
  },
  "language_info": {
   "codemirror_mode": {
    "name": "ipython",
    "version": 3
   },
   "file_extension": ".py",
   "mimetype": "text/x-python",
   "name": "python",
   "nbconvert_exporter": "python",
   "pygments_lexer": "ipython3",
   "version": "3.8.8"
  }
 },
 "nbformat": 4,
 "nbformat_minor": 1
}
